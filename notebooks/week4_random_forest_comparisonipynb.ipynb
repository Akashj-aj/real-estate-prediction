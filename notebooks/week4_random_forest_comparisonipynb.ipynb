{
  "nbformat": 4,
  "nbformat_minor": 0,
  "metadata": {
    "colab": {
      "provenance": []
    },
    "kernelspec": {
      "name": "python3",
      "display_name": "Python 3"
    },
    "language_info": {
      "name": "python"
    }
  },
  "cells": [
    {
      "cell_type": "code",
      "execution_count": 3,
      "metadata": {
        "colab": {
          "base_uri": "https://localhost:8080/"
        },
        "id": "JOabri6OJrIa",
        "outputId": "d005e3aa-c001-4eef-f65c-5a9c11fab2cb"
      },
      "outputs": [
        {
          "output_type": "stream",
          "name": "stdout",
          "text": [
            "Random Forest RMSE: 5.687590539891411\n",
            "Random Forest R²: 0.8071725356880382\n"
          ]
        }
      ],
      "source": [
        "import pandas as pd\n",
        "import numpy as np\n",
        "from sklearn.model_selection import train_test_split\n",
        "from sklearn.ensemble import RandomForestRegressor\n",
        "from sklearn.metrics import mean_squared_error, r2_score\n",
        "\n",
        "# Load and split data\n",
        "df = pd.read_csv(\"cleaned_data_with_transaction_year.csv\")\n",
        "X = df.drop(\"price_per_unit_area\", axis=1)\n",
        "y = df[\"price_per_unit_area\"]\n",
        "X_train, X_test, y_train, y_test = train_test_split(X, y, test_size=0.2, random_state=42)\n",
        "\n",
        "# Train Random Forest\n",
        "model = RandomForestRegressor(random_state=42)\n",
        "model.fit(X_train, y_train)\n",
        "\n",
        "# Evaluate\n",
        "y_pred = model.predict(X_test)\n",
        "rf_rmse = np.sqrt(mean_squared_error(y_test, y_pred))\n",
        "rf_r2 = r2_score(y_test, y_pred)\n",
        "\n",
        "print(\"Random Forest RMSE:\", rf_rmse)\n",
        "print(\"Random Forest R²:\", rf_r2)\n"
      ]
    },
    {
      "cell_type": "markdown",
      "source": [
        "**Why Random Forest?**\n",
        "\n",
        "Random Forest is an ensemble learning method that combines multiple decision trees to improve performance and reduce overfitting. It averages the results from many models, making it more robust and accurate compared to a single decision tree."
      ],
      "metadata": {
        "id": "3JYokTuiJ4RP"
      }
    },
    {
      "cell_type": "markdown",
      "source": [
        "Performance Comparison\n",
        "Model Used: Random Forest Regressor\n",
        "\n",
        "RMSE: 5.69\n",
        "\n",
        "R² Score: 0.81\n",
        "\n",
        "Interpretation:\n",
        "The R² score of 0.81 indicates that 81% of the variance in the target variable (price_per_unit_area) is explained by the model.\n",
        "\n",
        "The RMSE of 5.69 is relatively low, showing that the predictions are quite close to the actual values.\n",
        "\n"
      ],
      "metadata": {
        "id": "ajakJI7imlgW"
      }
    },
    {
      "cell_type": "markdown",
      "source": [
        "Comparison with Previous Models:\n",
        "Compared to simpler models (like linear regression), Random Forest often shows better performance because:\n",
        "\n",
        "It captures nonlinear relationships\n",
        "\n",
        "It handles outliers and noise better\n",
        "\n",
        "It’s more robust and accurate"
      ],
      "metadata": {
        "id": "PiGW261Vm_bN"
      }
    },
    {
      "cell_type": "markdown",
      "source": [
        "Conclusion:\n",
        "The Random Forest model demonstrated strong performance in predicting housing prices per unit area. It outperformed earlier approaches and confirmed that ensemble methods can enhance prediction accuracy in real estate datasets."
      ],
      "metadata": {
        "id": "WXFzKb6MnCHw"
      }
    }
  ]
}